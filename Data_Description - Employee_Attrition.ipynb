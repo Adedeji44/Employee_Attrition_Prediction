{
 "cells": [
  {
   "cell_type": "markdown",
   "id": "1f3de8cf",
   "metadata": {},
   "source": [
    "## Dataset Description\n",
    "\n",
    "The data contains information on employees' demographic details, work-related metrics, and attrition flag.\n",
    "\n",
    "- EmployeeNumber - Unique Employee Identifier\n",
    "- Attrition - Did the employee attrite or not?\n",
    "- Age - Age of the employee\n",
    "- BusinessTravel - Travel commitments for the job\n",
    "- DailyRate - Data description not available\n",
    "- Department - Employee's Department\n",
    "- DistanceFromHome - Distance from work to home (in KM)\n",
    "- Education - Employee's Education. 1-Below College, 2-College, 3-Bachelor, 4-Master, 5-Doctor\n",
    "- EducationField - Field of Education\n",
    "- EnvironmentSatisfaction - 1-Low, 2-Medium, 3-High, 4-Very High\n",
    "- Gender - Employee's gender\n",
    "- HourlyRate - Data description not available\n",
    "- JobInvolvement - 1-Low, 2-Medium, 3-High, 4-Very High\n",
    "- JobLevel - Level of job (1 to 5)\n",
    "- JobRole - Job Roles\n",
    "- JobSatisfaction - 1-Low, 2-Medium, 3-High, 4-Very High\n",
    "- MaritalStatus - Marital Status\n",
    "- MonthlyIncome - Monthly Salary\n",
    "- MonthlyRate - Data description not available\n",
    "- NumCompaniesWorked - Number of companies worked at\n",
    "- Over18 - Whether the employee is over 18 years of age?\n",
    "- OverTime - Whether the employee is doing overtime?\n",
    "- PercentSalaryHike - The percentage increase in the salary last year\n",
    "- PerformanceRating - 1-Low, 2-Good, 3-Excellent, 4-Outstanding\n",
    "- RelationshipSatisfaction - 1-Low, 2-Medium, 3-High, 4-Very High\n",
    "- StandardHours - Standard Hours\n",
    "- StockOptionLevel - Stock Option Level\n",
    "- TotalWorkingYears - Total years worked\n",
    "- TrainingTimesLastYear - Number of training attended last year\n",
    "- WorkLifeBalance - 1-Low, 2-Good, 3-Excellent, 4-Outstanding\n",
    "- YearsAtCompany - Years at Company\n",
    "- YearsInCurrentRole - Years in the current role\n",
    "- YearsSinceLastPromotion - Years since the last promotion\n",
    "- YearsWithCurrManager - Years with the current manager"
   ]
  },
  {
   "cell_type": "code",
   "execution_count": null,
   "id": "8b7f1583",
   "metadata": {},
   "outputs": [],
   "source": []
  }
 ],
 "metadata": {
  "kernelspec": {
   "display_name": "Python 3 (ipykernel)",
   "language": "python",
   "name": "python3"
  },
  "language_info": {
   "codemirror_mode": {
    "name": "ipython",
    "version": 3
   },
   "file_extension": ".py",
   "mimetype": "text/x-python",
   "name": "python",
   "nbconvert_exporter": "python",
   "pygments_lexer": "ipython3",
   "version": "3.9.12"
  }
 },
 "nbformat": 4,
 "nbformat_minor": 5
}
